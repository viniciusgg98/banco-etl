{
 "cells": [
  {
   "cell_type": "markdown",
   "metadata": {},
   "source": [
    "# Integração de Dados Financeiros:\n",
    "\n",
    "### Extração: \n",
    "Extração de dados de várias fontes financeiras, como bancos, cartões de crédito, investimentos.\n",
    "\n",
    "### Transformação: \n",
    "Normalização de moedas, cálculo de saldos consolidados, detecção de transações suspeitas.\n",
    "\n",
    "### Carregamento: \n",
    "Armazenamento dos dados processados em um sistema financeiro para análises e relatórios."
   ]
  },
  {
   "cell_type": "code",
   "execution_count": 113,
   "metadata": {},
   "outputs": [],
   "source": [
    "import pandas as pd"
   ]
  },
  {
   "cell_type": "code",
   "execution_count": 114,
   "metadata": {},
   "outputs": [],
   "source": [
    "data = pd.read_csv('conta.csv')"
   ]
  },
  {
   "cell_type": "code",
   "execution_count": 116,
   "metadata": {},
   "outputs": [
    {
     "data": {
      "text/html": [
       "<div>\n",
       "<style scoped>\n",
       "    .dataframe tbody tr th:only-of-type {\n",
       "        vertical-align: middle;\n",
       "    }\n",
       "\n",
       "    .dataframe tbody tr th {\n",
       "        vertical-align: top;\n",
       "    }\n",
       "\n",
       "    .dataframe thead th {\n",
       "        text-align: right;\n",
       "    }\n",
       "</style>\n",
       "<table border=\"1\" class=\"dataframe\">\n",
       "  <thead>\n",
       "    <tr style=\"text-align: right;\">\n",
       "      <th></th>\n",
       "      <th>data</th>\n",
       "      <th>conta</th>\n",
       "      <th>descricao</th>\n",
       "      <th>moeda</th>\n",
       "      <th>valor</th>\n",
       "      <th>horario</th>\n",
       "    </tr>\n",
       "  </thead>\n",
       "  <tbody>\n",
       "    <tr>\n",
       "      <th>0</th>\n",
       "      <td>2023-01-01</td>\n",
       "      <td>Banco A</td>\n",
       "      <td>Salário USD</td>\n",
       "      <td>USD</td>\n",
       "      <td>5000.0</td>\n",
       "      <td>08:00:00</td>\n",
       "    </tr>\n",
       "    <tr>\n",
       "      <th>1</th>\n",
       "      <td>2023-01-02</td>\n",
       "      <td>Banco B</td>\n",
       "      <td>Compra no Cartão de Crédito</td>\n",
       "      <td>USD</td>\n",
       "      <td>-100.0</td>\n",
       "      <td>12:30:00</td>\n",
       "    </tr>\n",
       "    <tr>\n",
       "      <th>2</th>\n",
       "      <td>2023-01-03</td>\n",
       "      <td>Banco A</td>\n",
       "      <td>Transferência para Investimento</td>\n",
       "      <td>USD</td>\n",
       "      <td>-1500.0</td>\n",
       "      <td>15:45:00</td>\n",
       "    </tr>\n",
       "    <tr>\n",
       "      <th>3</th>\n",
       "      <td>2023-01-05</td>\n",
       "      <td>Banco C</td>\n",
       "      <td>Compra no Cartão de Crédito</td>\n",
       "      <td>EUR</td>\n",
       "      <td>-80.0</td>\n",
       "      <td>10:20:00</td>\n",
       "    </tr>\n",
       "    <tr>\n",
       "      <th>4</th>\n",
       "      <td>2023-01-10</td>\n",
       "      <td>Banco A</td>\n",
       "      <td>Depósito em Conta</td>\n",
       "      <td>USD</td>\n",
       "      <td>2000.0</td>\n",
       "      <td>09:10:00</td>\n",
       "    </tr>\n",
       "  </tbody>\n",
       "</table>\n",
       "</div>"
      ],
      "text/plain": [
       "         data    conta                        descricao moeda   valor  \\\n",
       "0  2023-01-01  Banco A                      Salário USD   USD  5000.0   \n",
       "1  2023-01-02  Banco B      Compra no Cartão de Crédito   USD  -100.0   \n",
       "2  2023-01-03  Banco A  Transferência para Investimento   USD -1500.0   \n",
       "3  2023-01-05  Banco C      Compra no Cartão de Crédito   EUR   -80.0   \n",
       "4  2023-01-10  Banco A                Depósito em Conta   USD  2000.0   \n",
       "\n",
       "    horario  \n",
       "0  08:00:00  \n",
       "1  12:30:00  \n",
       "2  15:45:00  \n",
       "3  10:20:00  \n",
       "4  09:10:00  "
      ]
     },
     "execution_count": 116,
     "metadata": {},
     "output_type": "execute_result"
    }
   ],
   "source": [
    "data.head()"
   ]
  },
  {
   "cell_type": "code",
   "execution_count": 117,
   "metadata": {},
   "outputs": [
    {
     "data": {
      "text/plain": [
       "array(['USD', 'EUR'], dtype=object)"
      ]
     },
     "execution_count": 117,
     "metadata": {},
     "output_type": "execute_result"
    }
   ],
   "source": [
    "data['moeda'].unique()"
   ]
  },
  {
   "cell_type": "code",
   "execution_count": 118,
   "metadata": {},
   "outputs": [
    {
     "name": "stdout",
     "output_type": "stream",
     "text": [
      "<class 'pandas.core.frame.DataFrame'>\n",
      "RangeIndex: 44 entries, 0 to 43\n",
      "Data columns (total 6 columns):\n",
      " #   Column     Non-Null Count  Dtype  \n",
      "---  ------     --------------  -----  \n",
      " 0   data       44 non-null     object \n",
      " 1   conta      44 non-null     object \n",
      " 2   descricao  44 non-null     object \n",
      " 3   moeda      44 non-null     object \n",
      " 4   valor      44 non-null     float64\n",
      " 5   horario    44 non-null     object \n",
      "dtypes: float64(1), object(5)\n",
      "memory usage: 2.2+ KB\n"
     ]
    }
   ],
   "source": [
    "data.info()"
   ]
  },
  {
   "cell_type": "markdown",
   "metadata": {},
   "source": [
    "### Arrumando data e hora"
   ]
  },
  {
   "cell_type": "code",
   "execution_count": 119,
   "metadata": {},
   "outputs": [
    {
     "name": "stdout",
     "output_type": "stream",
     "text": [
      "<class 'pandas.core.frame.DataFrame'>\n",
      "RangeIndex: 44 entries, 0 to 43\n",
      "Data columns (total 6 columns):\n",
      " #   Column     Non-Null Count  Dtype         \n",
      "---  ------     --------------  -----         \n",
      " 0   data       44 non-null     datetime64[ns]\n",
      " 1   conta      44 non-null     object        \n",
      " 2   descricao  44 non-null     object        \n",
      " 3   moeda      44 non-null     object        \n",
      " 4   valor      44 non-null     float64       \n",
      " 5   horario    44 non-null     object        \n",
      "dtypes: datetime64[ns](1), float64(1), object(4)\n",
      "memory usage: 2.2+ KB\n"
     ]
    }
   ],
   "source": [
    "data['data'] = pd.to_datetime(data['data'])\n",
    "data['horario'] = pd.to_datetime(data['horario'], format='%H:%M:%S')\n",
    "data['horario'] = data['horario'].dt.time\n",
    "data.info()"
   ]
  },
  {
   "cell_type": "markdown",
   "metadata": {},
   "source": [
    "### Conversão para moeda unica\n",
    "dolar = 1\n",
    "euro = 1,05"
   ]
  },
  {
   "cell_type": "code",
   "execution_count": 123,
   "metadata": {},
   "outputs": [],
   "source": [
    "conversao = 1.05\n",
    "\n",
    "data['valor'] = pd.to_numeric(data['valor'], errors='coerce')\n",
    "\n",
    "data['valor_dolar'] = data.apply(lambda row: row['valor'] * conversao if row['moeda'] == 'EUR' else row['valor'], axis=1)\n",
    "\n",
    "data['moeda'] = 'USD'\n",
    "\n",
    "del data['valor']"
   ]
  },
  {
   "cell_type": "code",
   "execution_count": 124,
   "metadata": {},
   "outputs": [
    {
     "data": {
      "text/html": [
       "<div>\n",
       "<style scoped>\n",
       "    .dataframe tbody tr th:only-of-type {\n",
       "        vertical-align: middle;\n",
       "    }\n",
       "\n",
       "    .dataframe tbody tr th {\n",
       "        vertical-align: top;\n",
       "    }\n",
       "\n",
       "    .dataframe thead th {\n",
       "        text-align: right;\n",
       "    }\n",
       "</style>\n",
       "<table border=\"1\" class=\"dataframe\">\n",
       "  <thead>\n",
       "    <tr style=\"text-align: right;\">\n",
       "      <th></th>\n",
       "      <th>data</th>\n",
       "      <th>conta</th>\n",
       "      <th>descricao</th>\n",
       "      <th>moeda</th>\n",
       "      <th>horario</th>\n",
       "      <th>valor_dolar</th>\n",
       "    </tr>\n",
       "  </thead>\n",
       "  <tbody>\n",
       "    <tr>\n",
       "      <th>0</th>\n",
       "      <td>2023-01-01</td>\n",
       "      <td>Banco A</td>\n",
       "      <td>Salário USD</td>\n",
       "      <td>USD</td>\n",
       "      <td>08:00:00</td>\n",
       "      <td>5000.0</td>\n",
       "    </tr>\n",
       "    <tr>\n",
       "      <th>1</th>\n",
       "      <td>2023-01-02</td>\n",
       "      <td>Banco B</td>\n",
       "      <td>Compra no Cartão de Crédito</td>\n",
       "      <td>USD</td>\n",
       "      <td>12:30:00</td>\n",
       "      <td>-100.0</td>\n",
       "    </tr>\n",
       "    <tr>\n",
       "      <th>2</th>\n",
       "      <td>2023-01-03</td>\n",
       "      <td>Banco A</td>\n",
       "      <td>Transferência para Investimento</td>\n",
       "      <td>USD</td>\n",
       "      <td>15:45:00</td>\n",
       "      <td>-1500.0</td>\n",
       "    </tr>\n",
       "    <tr>\n",
       "      <th>3</th>\n",
       "      <td>2023-01-05</td>\n",
       "      <td>Banco C</td>\n",
       "      <td>Compra no Cartão de Crédito</td>\n",
       "      <td>USD</td>\n",
       "      <td>10:20:00</td>\n",
       "      <td>-80.0</td>\n",
       "    </tr>\n",
       "    <tr>\n",
       "      <th>4</th>\n",
       "      <td>2023-01-10</td>\n",
       "      <td>Banco A</td>\n",
       "      <td>Depósito em Conta</td>\n",
       "      <td>USD</td>\n",
       "      <td>09:10:00</td>\n",
       "      <td>2000.0</td>\n",
       "    </tr>\n",
       "  </tbody>\n",
       "</table>\n",
       "</div>"
      ],
      "text/plain": [
       "        data    conta                        descricao moeda   horario  \\\n",
       "0 2023-01-01  Banco A                      Salário USD   USD  08:00:00   \n",
       "1 2023-01-02  Banco B      Compra no Cartão de Crédito   USD  12:30:00   \n",
       "2 2023-01-03  Banco A  Transferência para Investimento   USD  15:45:00   \n",
       "3 2023-01-05  Banco C      Compra no Cartão de Crédito   USD  10:20:00   \n",
       "4 2023-01-10  Banco A                Depósito em Conta   USD  09:10:00   \n",
       "\n",
       "   valor_dolar  \n",
       "0       5000.0  \n",
       "1       -100.0  \n",
       "2      -1500.0  \n",
       "3        -80.0  \n",
       "4       2000.0  "
      ]
     },
     "execution_count": 124,
     "metadata": {},
     "output_type": "execute_result"
    }
   ],
   "source": [
    "data.head()"
   ]
  },
  {
   "cell_type": "markdown",
   "metadata": {},
   "source": [
    "## Adicionando saldo em conta"
   ]
  },
  {
   "cell_type": "code",
   "execution_count": 126,
   "metadata": {},
   "outputs": [
    {
     "data": {
      "text/html": [
       "<div>\n",
       "<style scoped>\n",
       "    .dataframe tbody tr th:only-of-type {\n",
       "        vertical-align: middle;\n",
       "    }\n",
       "\n",
       "    .dataframe tbody tr th {\n",
       "        vertical-align: top;\n",
       "    }\n",
       "\n",
       "    .dataframe thead th {\n",
       "        text-align: right;\n",
       "    }\n",
       "</style>\n",
       "<table border=\"1\" class=\"dataframe\">\n",
       "  <thead>\n",
       "    <tr style=\"text-align: right;\">\n",
       "      <th></th>\n",
       "      <th>data</th>\n",
       "      <th>conta</th>\n",
       "      <th>descricao</th>\n",
       "      <th>moeda</th>\n",
       "      <th>horario</th>\n",
       "      <th>valor_dolar</th>\n",
       "      <th>saldo_conta</th>\n",
       "    </tr>\n",
       "  </thead>\n",
       "  <tbody>\n",
       "    <tr>\n",
       "      <th>0</th>\n",
       "      <td>2023-01-01</td>\n",
       "      <td>Banco A</td>\n",
       "      <td>Salário USD</td>\n",
       "      <td>USD</td>\n",
       "      <td>08:00:00</td>\n",
       "      <td>5000.0</td>\n",
       "      <td>5000.0</td>\n",
       "    </tr>\n",
       "    <tr>\n",
       "      <th>1</th>\n",
       "      <td>2023-01-02</td>\n",
       "      <td>Banco B</td>\n",
       "      <td>Compra no Cartão de Crédito</td>\n",
       "      <td>USD</td>\n",
       "      <td>12:30:00</td>\n",
       "      <td>-100.0</td>\n",
       "      <td>4900.0</td>\n",
       "    </tr>\n",
       "    <tr>\n",
       "      <th>2</th>\n",
       "      <td>2023-01-03</td>\n",
       "      <td>Banco A</td>\n",
       "      <td>Transferência para Investimento</td>\n",
       "      <td>USD</td>\n",
       "      <td>15:45:00</td>\n",
       "      <td>-1500.0</td>\n",
       "      <td>3400.0</td>\n",
       "    </tr>\n",
       "    <tr>\n",
       "      <th>3</th>\n",
       "      <td>2023-01-05</td>\n",
       "      <td>Banco C</td>\n",
       "      <td>Compra no Cartão de Crédito</td>\n",
       "      <td>USD</td>\n",
       "      <td>10:20:00</td>\n",
       "      <td>-80.0</td>\n",
       "      <td>3320.0</td>\n",
       "    </tr>\n",
       "    <tr>\n",
       "      <th>4</th>\n",
       "      <td>2023-01-10</td>\n",
       "      <td>Banco A</td>\n",
       "      <td>Depósito em Conta</td>\n",
       "      <td>USD</td>\n",
       "      <td>09:10:00</td>\n",
       "      <td>2000.0</td>\n",
       "      <td>5320.0</td>\n",
       "    </tr>\n",
       "  </tbody>\n",
       "</table>\n",
       "</div>"
      ],
      "text/plain": [
       "        data    conta                        descricao moeda   horario  \\\n",
       "0 2023-01-01  Banco A                      Salário USD   USD  08:00:00   \n",
       "1 2023-01-02  Banco B      Compra no Cartão de Crédito   USD  12:30:00   \n",
       "2 2023-01-03  Banco A  Transferência para Investimento   USD  15:45:00   \n",
       "3 2023-01-05  Banco C      Compra no Cartão de Crédito   USD  10:20:00   \n",
       "4 2023-01-10  Banco A                Depósito em Conta   USD  09:10:00   \n",
       "\n",
       "   valor_dolar  saldo_conta  \n",
       "0       5000.0       5000.0  \n",
       "1       -100.0       4900.0  \n",
       "2      -1500.0       3400.0  \n",
       "3        -80.0       3320.0  \n",
       "4       2000.0       5320.0  "
      ]
     },
     "execution_count": 126,
     "metadata": {},
     "output_type": "execute_result"
    }
   ],
   "source": [
    "\n",
    "\n",
    "data = data.sort_values(['data', 'horario'], ascending=[True, True])\n",
    "\n",
    "data['saldo_conta'] = 0.0\n",
    "\n",
    "saldo_acumulado = 0.0\n",
    "for index, row in data.iterrows():\n",
    "    saldo_acumulado += row['valor_dolar']\n",
    "    data.at[index, 'saldo_conta'] = saldo_acumulado\n",
    "    \n",
    "data.head()"
   ]
  },
  {
   "cell_type": "markdown",
   "metadata": {},
   "source": [
    "### Indentificando transações suspeitas por horario ou valor"
   ]
  },
  {
   "cell_type": "code",
   "execution_count": 129,
   "metadata": {},
   "outputs": [
    {
     "data": {
      "text/html": [
       "<div>\n",
       "<style scoped>\n",
       "    .dataframe tbody tr th:only-of-type {\n",
       "        vertical-align: middle;\n",
       "    }\n",
       "\n",
       "    .dataframe tbody tr th {\n",
       "        vertical-align: top;\n",
       "    }\n",
       "\n",
       "    .dataframe thead th {\n",
       "        text-align: right;\n",
       "    }\n",
       "</style>\n",
       "<table border=\"1\" class=\"dataframe\">\n",
       "  <thead>\n",
       "    <tr style=\"text-align: right;\">\n",
       "      <th></th>\n",
       "      <th>data</th>\n",
       "      <th>horario</th>\n",
       "      <th>conta</th>\n",
       "      <th>descricao</th>\n",
       "      <th>moeda</th>\n",
       "      <th>valor_dolar</th>\n",
       "      <th>saldo_conta</th>\n",
       "      <th>transacao_suspeita</th>\n",
       "    </tr>\n",
       "  </thead>\n",
       "  <tbody>\n",
       "    <tr>\n",
       "      <th>0</th>\n",
       "      <td>2023-01-01</td>\n",
       "      <td>08:00:00</td>\n",
       "      <td>Banco A</td>\n",
       "      <td>Salário USD</td>\n",
       "      <td>USD</td>\n",
       "      <td>5000.0</td>\n",
       "      <td>5000.0</td>\n",
       "      <td>False</td>\n",
       "    </tr>\n",
       "    <tr>\n",
       "      <th>1</th>\n",
       "      <td>2023-01-02</td>\n",
       "      <td>12:30:00</td>\n",
       "      <td>Banco B</td>\n",
       "      <td>Compra no Cartão de Crédito</td>\n",
       "      <td>USD</td>\n",
       "      <td>-100.0</td>\n",
       "      <td>4900.0</td>\n",
       "      <td>False</td>\n",
       "    </tr>\n",
       "    <tr>\n",
       "      <th>2</th>\n",
       "      <td>2023-01-03</td>\n",
       "      <td>15:45:00</td>\n",
       "      <td>Banco A</td>\n",
       "      <td>Transferência para Investimento</td>\n",
       "      <td>USD</td>\n",
       "      <td>-1500.0</td>\n",
       "      <td>3400.0</td>\n",
       "      <td>True</td>\n",
       "    </tr>\n",
       "    <tr>\n",
       "      <th>3</th>\n",
       "      <td>2023-01-05</td>\n",
       "      <td>10:20:00</td>\n",
       "      <td>Banco C</td>\n",
       "      <td>Compra no Cartão de Crédito</td>\n",
       "      <td>USD</td>\n",
       "      <td>-80.0</td>\n",
       "      <td>3320.0</td>\n",
       "      <td>False</td>\n",
       "    </tr>\n",
       "    <tr>\n",
       "      <th>4</th>\n",
       "      <td>2023-01-10</td>\n",
       "      <td>09:10:00</td>\n",
       "      <td>Banco A</td>\n",
       "      <td>Depósito em Conta</td>\n",
       "      <td>USD</td>\n",
       "      <td>2000.0</td>\n",
       "      <td>5320.0</td>\n",
       "      <td>False</td>\n",
       "    </tr>\n",
       "  </tbody>\n",
       "</table>\n",
       "</div>"
      ],
      "text/plain": [
       "        data   horario    conta                        descricao moeda  \\\n",
       "0 2023-01-01  08:00:00  Banco A                      Salário USD   USD   \n",
       "1 2023-01-02  12:30:00  Banco B      Compra no Cartão de Crédito   USD   \n",
       "2 2023-01-03  15:45:00  Banco A  Transferência para Investimento   USD   \n",
       "3 2023-01-05  10:20:00  Banco C      Compra no Cartão de Crédito   USD   \n",
       "4 2023-01-10  09:10:00  Banco A                Depósito em Conta   USD   \n",
       "\n",
       "   valor_dolar  saldo_conta  transacao_suspeita  \n",
       "0       5000.0       5000.0               False  \n",
       "1       -100.0       4900.0               False  \n",
       "2      -1500.0       3400.0                True  \n",
       "3        -80.0       3320.0               False  \n",
       "4       2000.0       5320.0               False  "
      ]
     },
     "execution_count": 129,
     "metadata": {},
     "output_type": "execute_result"
    }
   ],
   "source": [
    "data['suspeito_horario'] = ((data['horario'].apply(lambda x: x.hour) >= 23) | (data['horario'].apply(lambda x: x.hour) < 6)).astype(int)\n",
    "\n",
    "\n",
    "# Calcule a média de retirada\n",
    "media_retirada = data[data['valor_dolar'] < 0]['valor_dolar'].mean()\n",
    "\n",
    "# Crie a coluna 'transacao_suspeita' com base nos critérios\n",
    "data['transacao_suspeita'] = (data['suspeito_horario'] | (data['valor_dolar'] < 0) & (abs(data['valor_dolar']) > 1.5 * abs(media_retirada))).astype(bool)\n",
    "\n",
    "# Exiba o DataFrame com as novas colunas\n",
    "data1 = data[['data', 'horario', 'conta', 'descricao', 'moeda', 'valor_dolar', 'saldo_conta', 'transacao_suspeita']]\n",
    "data1.head()\n"
   ]
  },
  {
   "cell_type": "markdown",
   "metadata": {},
   "source": [
    "### Renomeando colunas"
   ]
  },
  {
   "cell_type": "code",
   "execution_count": 148,
   "metadata": {},
   "outputs": [],
   "source": [
    "data1.columns = ['DATA', 'HORA', 'CONTA', 'DESCRIÇÂO', 'MOEDA', 'MOVIMENTAÇÔES', 'SALDO', 'TRANSAÇÂO SUSPEITA']\n",
    "\n",
    "data1.head()\n",
    "\n",
    "teste1 = data1"
   ]
  },
  {
   "cell_type": "markdown",
   "metadata": {},
   "source": [
    "# Salvando no Excel"
   ]
  },
  {
   "cell_type": "code",
   "execution_count": 150,
   "metadata": {},
   "outputs": [],
   "source": [
    "teste1['DATA'] = pd.to_datetime(teste1['DATA']).dt.strftime('%Y-%m-%d')\n",
    "\n",
    "\n",
    "teste1.to_excel('output.xlsx', index=False)\n",
    "\n",
    "teste1 = pd.read_excel('output.xlsx')\n",
    "\n"
   ]
  }
 ],
 "metadata": {
  "kernelspec": {
   "display_name": "Python 3",
   "language": "python",
   "name": "python3"
  },
  "language_info": {
   "codemirror_mode": {
    "name": "ipython",
    "version": 3
   },
   "file_extension": ".py",
   "mimetype": "text/x-python",
   "name": "python",
   "nbconvert_exporter": "python",
   "pygments_lexer": "ipython3",
   "version": "3.11.4"
  }
 },
 "nbformat": 4,
 "nbformat_minor": 2
}
